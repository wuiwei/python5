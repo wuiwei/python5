{
 "cells": [
  {
   "cell_type": "markdown",
   "metadata": {},
   "source": [
    "# 循环\n",
    "- 循环是一种控制语句块重复执行的结构\n",
    "- while  适用于广度遍历\n",
    "- for    开发中经常使用"
   ]
  },
  {
   "cell_type": "markdown",
   "metadata": {},
   "source": [
    "## while 循环\n",
    "- 当一个条件保持真的时候while循环重复执行语句\n",
    "- while 循环一定要有结束条件，否则很容易进入死循环\n",
    "- while 循环的语法是：\n",
    "\n",
    "    while loop-contunuation-conndition:\n",
    "\n",
    "        Statement"
   ]
  },
  {
   "cell_type": "markdown",
   "metadata": {},
   "source": [
    "## 示例：\n",
    "sum = 0\n",
    "\n",
    "i = 1\n",
    "\n",
    "while i <10:\n",
    "\n",
    "    sum = sum + i\n",
    "    i = i + 1"
   ]
  },
  {
   "cell_type": "markdown",
   "metadata": {},
   "source": [
    "## 错误示例：\n",
    "sum = 0\n",
    "\n",
    "i = 1\n",
    "\n",
    "while i <10:\n",
    "\n",
    "    sum = sum + i\n",
    "\n",
    "i = i + 1\n",
    "- 一旦进入死循环可按 Ctrl + c 停止"
   ]
  },
  {
   "cell_type": "code",
   "execution_count": 1,
   "metadata": {},
   "outputs": [
    {
     "name": "stdout",
     "output_type": "stream",
     "text": [
      "今天天气好晴朗\n",
      "今天天气好晴朗\n",
      "今天天气好晴朗\n",
      "今天天气好晴朗\n",
      "今天天气好晴朗\n",
      "今天天气好晴朗\n",
      "今天天气好晴朗\n",
      "今天天气好晴朗\n",
      "今天天气好晴朗\n",
      "今天天气好晴朗\n"
     ]
    }
   ],
   "source": [
    "i = 0\n",
    "while i < 10:\n",
    "    print('今天天气好晴朗')\n",
    "    i += 1"
   ]
  },
  {
   "cell_type": "code",
   "execution_count": 3,
   "metadata": {},
   "outputs": [],
   "source": [
    "import os\n",
    "i = 0\n",
    "while i :\n",
    "    os.system('calc')\n",
    "    break"
   ]
  },
  {
   "cell_type": "markdown",
   "metadata": {},
   "source": [
    "## EP：\n",
    "![](../Photo/143.png)\n",
    "![](../Photo/144.png)"
   ]
  },
  {
   "cell_type": "markdown",
   "metadata": {},
   "source": [
    "# 验证码\n",
    "- 随机产生四个字母的验证码，如果正确，输出验证码正确。如果错误，产生新的验证码，用户重新输入。\n",
    "- 验证码只能输入三次，如果三次都错，返回“别爬了，我们小网站没什么好爬的”\n",
    "- 密码登录，如果三次错误，账号被锁定\n"
   ]
  },
  {
   "cell_type": "code",
   "execution_count": null,
   "metadata": {},
   "outputs": [],
   "source": [
    "import random\n",
    "li = []\n",
    "for i in range(1):\n",
    "     temp = random.randint(65,91)\n",
    "    c = chr(temp)\n",
    "    li.append(c)\n",
    "    result = \"\".\n",
    "    \n",
    "    \n"
   ]
  },
  {
   "cell_type": "code",
   "execution_count": 5,
   "metadata": {},
   "outputs": [
    {
     "ename": "SyntaxError",
     "evalue": "invalid character in identifier (<ipython-input-5-4d4968036a96>, line 4)",
     "output_type": "error",
     "traceback": [
      "\u001b[1;36m  File \u001b[1;32m\"<ipython-input-5-4d4968036a96>\"\u001b[1;36m, line \u001b[1;32m4\u001b[0m\n\u001b[1;33m    print('验证码为：'，number)\u001b[0m\n\u001b[1;37m                       ^\u001b[0m\n\u001b[1;31mSyntaxError\u001b[0m\u001b[1;31m:\u001b[0m invalid character in identifier\n"
     ]
    }
   ],
   "source": [
    "import random\n",
    "while 1:\n",
    "    number = random.randint(1000,9999)\n",
    "    print('验证码为：'，number)\n",
    "    me = eval(input('>>'))\n",
    "    if number == me:\n",
    "        print ('验证码输入正确')\n",
    "        break\n",
    "    else:\n",
    "        print('验证码输入错误：')"
   ]
  },
  {
   "cell_type": "code",
   "execution_count": 9,
   "metadata": {},
   "outputs": [
    {
     "name": "stdout",
     "output_type": "stream",
     "text": [
      "验证码是： MaDx\n",
      "输入验证码MaDx\n",
      "验证码正确\n"
     ]
    }
   ],
   "source": [
    "import random\n",
    "while True:\n",
    "    n1 = chr(random.randint(65,90))\n",
    "    n2 = chr(random.randint(97,122))\n",
    "    n3 = chr(random.randint(65,90)) \n",
    "    n4 = chr(random.randint(97,122))\n",
    "    N = n1  + n2 + n3 + n4\n",
    "    print('验证码是：',N)     \n",
    "    me = input ('输入验证码')\n",
    "    \n",
    "    if me ==N:\n",
    "        print('验证码正确')\n",
    "        break\n",
    "    else:\n",
    "         print('验证码错误')"
   ]
  },
  {
   "cell_type": "code",
   "execution_count": 12,
   "metadata": {},
   "outputs": [
    {
     "name": "stdout",
     "output_type": "stream",
     "text": [
      "[6, 4, 5, 3, 1, 2]\n"
     ]
    }
   ],
   "source": [
    "a = [1,2,3,4,5,6]\n",
    "random.shuffle(a)\n",
    "print (a)"
   ]
  },
  {
   "cell_type": "code",
   "execution_count": null,
   "metadata": {},
   "outputs": [],
   "source": [
    "a = \"J\"\n",
    "a.upper()"
   ]
  },
  {
   "cell_type": "markdown",
   "metadata": {},
   "source": [
    "## 尝试死循环"
   ]
  },
  {
   "cell_type": "markdown",
   "metadata": {},
   "source": [
    "## 实例研究：猜数字\n",
    "- 你将要编写一个能够随机生成一个0到10之间的且包括两者的数字程序，这个程序\n",
    "- 提示用户连续地输入数字直到正确，且提示用户输入的数字是过高还是过低"
   ]
  },
  {
   "cell_type": "markdown",
   "metadata": {},
   "source": [
    "## 使用哨兵值来控制循环\n",
    "- 哨兵值来表明输入的结束\n",
    "- ![](../Photo/54.png)"
   ]
  },
  {
   "cell_type": "markdown",
   "metadata": {},
   "source": [
    "## 警告\n",
    "![](../Photo/55.png)"
   ]
  },
  {
   "cell_type": "markdown",
   "metadata": {},
   "source": [
    "## for 循环\n",
    "- Python的for 循环通过一个序列中的每个值来进行迭代\n",
    "- range(a,b,k)， a，b，k 必须为整数\n",
    "- a: start\n",
    "- b: end\n",
    "- k: step\n",
    "- 注意for 是循环一切可迭代对象，而不是只能使用range"
   ]
  },
  {
   "cell_type": "markdown",
   "metadata": {},
   "source": [
    "# 在Python里面一切皆对象"
   ]
  },
  {
   "cell_type": "markdown",
   "metadata": {},
   "source": [
    "## EP:\n",
    "- ![](../Photo/145.png)"
   ]
  },
  {
   "cell_type": "markdown",
   "metadata": {},
   "source": [
    "## 嵌套循环\n",
    "- 一个循环可以嵌套另一个循环\n",
    "- 每次循环外层时，内层循环都会被刷新重新完成循环\n",
    "- 也就是说，大循环执行一次，小循环会全部执行一次\n",
    "- 注意：\n",
    "> - 多层循环非常耗时\n",
    "  - 最多使用3层循环"
   ]
  },
  {
   "cell_type": "markdown",
   "metadata": {},
   "source": [
    "## EP：\n",
    "- 使用多层循环完成9X9乘法表\n",
    "- 显示50以内所有的素数"
   ]
  },
  {
   "cell_type": "markdown",
   "metadata": {},
   "source": [
    "## 关键字 break 和 continue\n",
    "- break 跳出循环，终止循环\n",
    "- continue 跳出此次循环，继续执行"
   ]
  },
  {
   "cell_type": "markdown",
   "metadata": {},
   "source": [
    "## 注意\n",
    "![](../Photo/56.png)\n",
    "![](../Photo/57.png)"
   ]
  },
  {
   "cell_type": "markdown",
   "metadata": {},
   "source": [
    "# Homework\n",
    "- 1 \n",
    "![](../Photo/58.png)"
   ]
  },
  {
   "cell_type": "code",
   "execution_count": 3,
   "metadata": {},
   "outputs": [
    {
     "name": "stdout",
     "output_type": "stream",
     "text": [
      "Enter an integer,theinput ends if it is 0 :1\n"
     ]
    }
   ],
   "source": [
    "data = eval(input('Enter an integer,theinput ends if it is 0 :'))"
   ]
  },
  {
   "cell_type": "code",
   "execution_count": 2,
   "metadata": {},
   "outputs": [
    {
     "name": "stdout",
     "output_type": "stream",
     "text": [
      "Enter an integer,theinput ends if it is 0 :25\n"
     ]
    }
   ],
   "source": [
    "\n",
    "data = eval(input('Enter an integer,theinput ends if it is 0 :'))\n"
   ]
  },
  {
   "cell_type": "code",
   "execution_count": null,
   "metadata": {},
   "outputs": [],
   "source": []
  },
  {
   "cell_type": "markdown",
   "metadata": {},
   "source": [
    "- 2\n",
    "![](../Photo/59.png)"
   ]
  },
  {
   "cell_type": "markdown",
   "metadata": {},
   "source": [
    "- 3\n",
    "![](../Photo/58.png)"
   ]
  },
  {
   "cell_type": "markdown",
   "metadata": {},
   "source": [
    "- 4\n",
    "![](../Photo/60.png)"
   ]
  },
  {
   "cell_type": "markdown",
   "metadata": {},
   "source": [
    "- 5\n",
    "![](../Photo/61.png)"
   ]
  },
  {
   "cell_type": "markdown",
   "metadata": {},
   "source": [
    "- 6\n",
    "![](../Photo/62.png)"
   ]
  },
  {
   "cell_type": "markdown",
   "metadata": {},
   "source": [
    "- 7\n",
    "![](../Photo/63.png)"
   ]
  },
  {
   "cell_type": "markdown",
   "metadata": {},
   "source": [
    "- 8\n",
    "![](../Photo/64.png)"
   ]
  },
  {
   "cell_type": "markdown",
   "metadata": {},
   "source": [
    "- 9\n",
    "![](../Photo/65.png)"
   ]
  },
  {
   "cell_type": "markdown",
   "metadata": {},
   "source": [
    "- 10 \n",
    "![](../Photo/66.png)"
   ]
  },
  {
   "cell_type": "markdown",
   "metadata": {},
   "source": [
    "- 11\n",
    "![](../Photo/67.png)"
   ]
  },
  {
   "cell_type": "markdown",
   "metadata": {},
   "source": [
    "- 12\n",
    "![](../Photo/68.png)"
   ]
  },
  {
   "cell_type": "code",
   "execution_count": 2,
   "metadata": {},
   "outputs": [
    {
     "ename": "ModuleNotFoundError",
     "evalue": "No module named 'matplotlib.pyploy'",
     "output_type": "error",
     "traceback": [
      "\u001b[1;31m---------------------------------------------------------------------------\u001b[0m",
      "\u001b[1;31mModuleNotFoundError\u001b[0m                       Traceback (most recent call last)",
      "\u001b[1;32m<ipython-input-2-e507b79136d3>\u001b[0m in \u001b[0;36m<module>\u001b[1;34m\u001b[0m\n\u001b[0;32m      3\u001b[0m \u001b[1;32mimport\u001b[0m \u001b[0mmatplotlib\u001b[0m \u001b[1;32mas\u001b[0m \u001b[0mmpl\u001b[0m\u001b[1;33m\u001b[0m\u001b[1;33m\u001b[0m\u001b[0m\n\u001b[0;32m      4\u001b[0m \u001b[0mmpl\u001b[0m\u001b[1;33m.\u001b[0m\u001b[0muse\u001b[0m\u001b[1;33m(\u001b[0m\u001b[1;34m'TkAgg'\u001b[0m\u001b[1;33m)\u001b[0m\u001b[1;33m\u001b[0m\u001b[1;33m\u001b[0m\u001b[0m\n\u001b[1;32m----> 5\u001b[1;33m \u001b[1;32mimport\u001b[0m \u001b[0mmatplotlib\u001b[0m \u001b[1;33m.\u001b[0m \u001b[0mpyploy\u001b[0m \u001b[1;32mas\u001b[0m \u001b[0mplt\u001b[0m\u001b[1;33m\u001b[0m\u001b[1;33m\u001b[0m\u001b[0m\n\u001b[0m\u001b[0;32m      6\u001b[0m \u001b[0mprint\u001b[0m\u001b[1;33m(\u001b[0m\u001b[0mmpl\u001b[0m\u001b[1;33m.\u001b[0m\u001b[0mget_backend\u001b[0m\u001b[1;33m(\u001b[0m\u001b[1;33m)\u001b[0m\u001b[1;33m)\u001b[0m\u001b[1;33m\u001b[0m\u001b[1;33m\u001b[0m\u001b[0m\n\u001b[0;32m      7\u001b[0m \u001b[1;32mfrom\u001b[0m \u001b[0mmatplotlib\u001b[0m\u001b[1;33m.\u001b[0m\u001b[0manimation\u001b[0m \u001b[1;32mimport\u001b[0m \u001b[0mFuncAnimation\u001b[0m\u001b[1;33m\u001b[0m\u001b[1;33m\u001b[0m\u001b[0m\n",
      "\u001b[1;31mModuleNotFoundError\u001b[0m: No module named 'matplotlib.pyploy'"
     ]
    }
   ],
   "source": [
    "import random\n",
    "import numpy as np\n",
    "import matplotlib as mpl\n",
    "mpl.use('TkAgg')\n",
    "import matplotlib . pyploy as plt \n",
    "print(mpl.get_backend())\n",
    "from matplotlib.animation import FuncAnimation\n",
    "def create():\n",
    "    l = []\n",
    "    for i in range(0,100):\n",
    "        l.append(1)\n",
    "    return l\n",
    "l = create()\n",
    "fig = plt.figure()\n",
    "ax = fig.add_subplot(111)\n",
    "bar = ax.bar(x,l)\n",
    "def anmiat(i):\n",
    "    for index in range(0,100):\n",
    "        set_item = l[index]\n",
    "        if set_item ==0:\n",
    "            continue\n",
    "        else:\n",
    "            l[index]= set_item-1\n",
    "        get_random_index = random.randint(0,99)\n",
    "        l[get_random_index] = l[get_random_index] + 1\n",
    "    plt.cla()\n",
    "    bar = ax.bar(x,l)\n",
    "    plt.title(str(i))\n",
    "    plt.ylim((0,10))\n",
    "    return bar"
   ]
  },
  {
   "cell_type": "code",
   "execution_count": 1,
   "metadata": {},
   "outputs": [
    {
     "data": {
      "text/plain": [
       "<Figure size 640x480 with 1 Axes>"
      ]
     },
     "metadata": {},
     "output_type": "display_data"
    },
    {
     "data": {
      "text/plain": [
       "<Figure size 640x480 with 1 Axes>"
      ]
     },
     "metadata": {},
     "output_type": "display_data"
    }
   ],
   "source": [
    "import matplotlib.pyplot as plt\n",
    "import pandas as pd\n",
    "import random\n",
    "person = 100\n",
    "id_list = range(person)\n",
    "id_money_dict = {k: person for k in id_list}\n",
    "round_number = 17000\n",
    "for round in range(round_number):\n",
    "    for id in id_money_dict.keys():\n",
    "        id_money_dict[id] += -1\n",
    "        id_get = random.randint(0, person-1)\n",
    "        while id_get == id:\n",
    "            id_get = random.randint(0, person - 1)\n",
    "        id_money_dict[id_get] += 1\n",
    "se = pd.Series(id_money_dict)\n",
    "se.plot.bar()\n",
    "plt.show()\n",
    "plt.close()\n",
    "plt.show()\n",
    "plt.close()\n",
    "se.plot.hist(bins=100)\n",
    "plt.show()"
   ]
  },
  {
   "cell_type": "code",
   "execution_count": 2,
   "metadata": {
    "scrolled": true
   },
   "outputs": [
    {
     "data": {
      "image/png": "[encoded data removed]",
      "text/plain": [
       "<Figure size 432x288 with 1 Axes>"
      ]
     },
     "metadata": {
      "needs_background": "light"
     },
     "output_type": "display_data"
    },
    {
     "data": {
      "image/png": "[encoded data removed]",
      "text/plain": [
       "<Figure size 432x288 with 1 Axes>"
      ]
     },
     "metadata": {
      "needs_background": "light"
     },
     "output_type": "display_data"
    }
   ],
   "source": [
    "import matplotlib.pyplot as plt\n",
    "import pandas as pd\n",
    "import random\n",
    "person = 100\n",
    "id_list = range(person)\n",
    "id_money_dict = {k: person for k in id_list}\n",
    "round_number = 17000\n",
    "for round in range(round_number):\n",
    "    for id in id_money_dict.keys():\n",
    "        id_money_dict[id] += -1\n",
    "        id_get = random.randint(0, person-1)\n",
    "        while id_get == id:\n",
    "            id_get = random.randint(0, person - 1)\n",
    "        id_money_dict[id_get] += 1\n",
    "se = pd.Series(id_money_dict)\n",
    "se.plot.bar()\n",
    "plt.show()\n",
    "plt.close()\n",
    "plt.show()\n",
    "plt.close()\n",
    "se.plot.hist(bins=100)\n",
    "plt.show()"
   ]
  },
  {
   "cell_type": "code",
   "execution_count": 1,
   "metadata": {},
   "outputs": [
    {
     "name": "stdout",
     "output_type": "stream",
     "text": [
      "49\n",
      "13\n",
      "4\n",
      "117\n",
      "111\n",
      "5\n",
      "186\n",
      "12\n",
      "18\n",
      "23\n",
      "22\n",
      "144\n",
      "74\n",
      "217\n",
      "9\n",
      "85\n",
      "189\n",
      "17\n",
      "262\n",
      "25\n",
      "254\n",
      "20\n",
      "187\n",
      "15\n",
      "0\n",
      "192\n",
      "191\n",
      "231\n",
      "151\n",
      "129\n",
      "142\n",
      "80\n",
      "88\n",
      "100\n",
      "34\n",
      "105\n",
      "244\n",
      "68\n",
      "216\n",
      "76\n",
      "59\n",
      "171\n",
      "9\n",
      "223\n",
      "52\n",
      "236\n",
      "179\n",
      "114\n",
      "22\n",
      "173\n",
      "142\n",
      "330\n",
      "261\n",
      "227\n",
      "250\n",
      "216\n",
      "137\n",
      "14\n",
      "175\n",
      "41\n",
      "156\n",
      "40\n",
      "256\n",
      "107\n",
      "54\n",
      "86\n",
      "87\n",
      "17\n",
      "105\n",
      "95\n",
      "33\n",
      "199\n",
      "51\n",
      "182\n",
      "169\n",
      "5\n",
      "99\n",
      "54\n",
      "144\n",
      "35\n",
      "20\n",
      "212\n",
      "17\n",
      "12\n",
      "81\n",
      "41\n",
      "77\n",
      "23\n",
      "144\n",
      "144\n",
      "85\n",
      "212\n",
      "175\n",
      "55\n",
      "270\n",
      "201\n",
      "194\n",
      "38\n",
      "49\n",
      "132\n",
      "9\n",
      "104\n",
      "180\n",
      "32\n",
      "58\n",
      "111\n",
      "34\n",
      "85\n",
      "113\n",
      "122\n",
      "19\n",
      "74\n",
      "14\n",
      "130\n",
      "93\n",
      "73\n",
      "107\n",
      "112\n",
      "44\n",
      "25\n",
      "276\n",
      "83\n",
      "161\n",
      "76\n",
      "188\n",
      "46\n",
      "26\n",
      "138\n",
      "111\n",
      "5\n",
      "272\n",
      "86\n",
      "110\n",
      "33\n",
      "199\n",
      "236\n",
      "198\n",
      "118\n",
      "197\n",
      "40\n",
      "46\n",
      "70\n",
      "225\n",
      "9\n",
      "5\n",
      "16\n",
      "156\n",
      "26\n",
      "67\n",
      "178\n",
      "166\n",
      "117\n",
      "68\n",
      "139\n",
      "32\n",
      "16\n",
      "20\n",
      "113\n",
      "18\n",
      "118\n",
      "75\n",
      "19\n",
      "38\n",
      "55\n",
      "222\n",
      "2\n",
      "195\n",
      "151\n",
      "162\n",
      "129\n",
      "140\n",
      "87\n",
      "213\n",
      "16\n",
      "41\n",
      "27\n",
      "244\n",
      "55\n",
      "8\n",
      "11\n",
      "22\n",
      "104\n",
      "106\n",
      "55\n",
      "9\n",
      "13\n",
      "151\n",
      "128\n",
      "48\n",
      "125\n",
      "8\n",
      "81\n",
      "12\n",
      "78\n",
      "136\n",
      "166\n",
      "237\n",
      "66\n",
      "83\n",
      "156\n",
      "73\n",
      "157\n",
      "28\n",
      "142\n",
      "45\n",
      "168\n",
      "26\n",
      "214\n",
      "51\n",
      "44\n",
      "202\n",
      "31\n",
      "42\n",
      "65\n",
      "65\n",
      "16\n",
      "11\n",
      "28\n",
      "42\n",
      "150\n",
      "84\n",
      "222\n",
      "59\n",
      "25\n",
      "75\n",
      "264\n",
      "92\n",
      "8\n",
      "120\n",
      "17\n",
      "146\n",
      "27\n",
      "151\n",
      "204\n",
      "150\n",
      "222\n",
      "27\n",
      "55\n",
      "34\n",
      "82\n",
      "93\n",
      "86\n",
      "87\n",
      "43\n",
      "33\n",
      "30\n",
      "54\n",
      "30\n",
      "172\n",
      "55\n",
      "76\n",
      "21\n",
      "138\n",
      "79\n",
      "17\n",
      "92\n",
      "148\n",
      "111\n",
      "37\n",
      "44\n",
      "361\n",
      "39\n",
      "101\n",
      "41\n",
      "86\n",
      "168\n",
      "189\n",
      "127\n",
      "275\n",
      "106\n",
      "212\n",
      "20\n",
      "217\n",
      "69\n",
      "92\n",
      "36\n",
      "110\n",
      "51\n",
      "30\n",
      "117\n",
      "5\n",
      "59\n",
      "32\n",
      "37\n",
      "42\n",
      "58\n",
      "283\n",
      "54\n",
      "168\n",
      "337\n",
      "61\n",
      "204\n",
      "36\n",
      "238\n",
      "16\n",
      "164\n",
      "217\n",
      "35\n",
      "68\n",
      "392\n",
      "317\n",
      "64\n",
      "211\n",
      "261\n",
      "124\n",
      "65\n",
      "271\n",
      "74\n",
      "4\n",
      "25\n",
      "108\n",
      "7\n",
      "244\n",
      "218\n",
      "90\n",
      "92\n",
      "83\n",
      "64\n",
      "72\n",
      "167\n",
      "116\n",
      "4\n",
      "21\n",
      "272\n",
      "190\n",
      "144\n",
      "8\n",
      "111\n",
      "20\n",
      "161\n",
      "70\n",
      "6\n",
      "26\n",
      "102\n",
      "126\n",
      "6\n",
      "131\n",
      "373\n",
      "142\n",
      "57\n",
      "166\n",
      "97\n",
      "114\n",
      "195\n",
      "9\n",
      "111\n",
      "41\n",
      "37\n",
      "186\n",
      "51\n",
      "99\n",
      "63\n",
      "28\n",
      "320\n",
      "88\n",
      "109\n",
      "121\n",
      "57\n",
      "141\n",
      "110\n",
      "17\n",
      "68\n",
      "22\n",
      "97\n",
      "153\n",
      "67\n",
      "154\n",
      "11\n",
      "15\n",
      "62\n",
      "157\n",
      "171\n",
      "11\n",
      "27\n",
      "16\n",
      "39\n",
      "40\n",
      "18\n",
      "0\n",
      "80\n",
      "159\n",
      "8\n",
      "10\n",
      "246\n",
      "250\n",
      "178\n",
      "203\n",
      "2\n",
      "74\n",
      "20\n",
      "77\n",
      "139\n",
      "29\n",
      "55\n",
      "40\n",
      "31\n",
      "1\n",
      "80\n",
      "4\n",
      "4\n",
      "131\n",
      "142\n",
      "30\n",
      "269\n",
      "45\n",
      "179\n",
      "73\n",
      "190\n",
      "137\n",
      "34\n",
      "76\n",
      "55\n",
      "37\n",
      "79\n",
      "102\n",
      "154\n",
      "146\n",
      "154\n",
      "74\n",
      "219\n",
      "56\n",
      "67\n",
      "169\n",
      "177\n",
      "48\n",
      "123\n",
      "56\n",
      "21\n",
      "70\n",
      "1\n",
      "82\n",
      "156\n",
      "16\n",
      "90\n",
      "67\n",
      "15\n",
      "112\n",
      "208\n",
      "81\n",
      "129\n",
      "38\n",
      "84\n",
      "93\n",
      "108\n",
      "42\n",
      "154\n",
      "151\n",
      "154\n",
      "40\n",
      "104\n",
      "49\n",
      "128\n",
      "172\n",
      "28\n",
      "20\n",
      "62\n",
      "20\n",
      "62\n",
      "151\n",
      "113\n",
      "102\n",
      "16\n",
      "41\n",
      "10\n",
      "219\n",
      "54\n",
      "15\n",
      "11\n",
      "179\n",
      "83\n",
      "133\n",
      "97\n",
      "31\n",
      "140\n",
      "43\n",
      "92\n",
      "98\n",
      "65\n",
      "69\n",
      "27\n",
      "79\n",
      "37\n",
      "102\n",
      "94\n",
      "94\n",
      "45\n",
      "251\n",
      "86\n",
      "90\n",
      "20\n",
      "188\n",
      "44\n",
      "91\n",
      "27\n",
      "199\n",
      "309\n",
      "205\n",
      "155\n",
      "52\n",
      "67\n"
     ]
    }
   ],
   "source": [
    "import random\n",
    "\n",
    "init_gold, person, minutes = 100, 500, 10000\n",
    "golds = [init_gold] * person\n",
    "\n",
    "for m in range(minutes):\n",
    "    for p in range(person):\n",
    "         if golds[p] > 0:\n",
    "            golds[p] -= 1\n",
    "            choice_person = random.randint(0, person - 1)\n",
    "            golds[choice_person] += 1\n",
    "\n",
    "for i in golds:\n",
    "    print(i)"
   ]
  },
  {
   "cell_type": "code",
   "execution_count": null,
   "metadata": {},
   "outputs": [],
   "source": []
  }
 ],
 "metadata": {
  "kernelspec": {
   "display_name": "Python 3",
   "language": "python",
   "name": "python3"
  },
  "language_info": {
   "codemirror_mode": {
    "name": "ipython",
    "version": 3
   },
   "file_extension": ".py",
   "mimetype": "text/x-python",
   "name": "python",
   "nbconvert_exporter": "python",
   "pygments_lexer": "ipython3",
   "version": "3.7.3"
  }
 },
 "nbformat": 4,
 "nbformat_minor": 2
}
